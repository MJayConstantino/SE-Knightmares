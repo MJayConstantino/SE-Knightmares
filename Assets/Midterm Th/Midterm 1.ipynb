{
 "cells": [
  {
   "cell_type": "markdown",
   "id": "92738d3e-e6d0-4d27-93be-c40ab6c6e9f9",
   "metadata": {
    "deletable": false,
    "editable": false,
    "nbgrader": {
     "cell_type": "markdown",
     "checksum": "b88939e14df66b9b3771d65be9fae50a",
     "grade": false,
     "grade_id": "cell-ed3ebf94e418124c",
     "locked": true,
     "schema_version": 3,
     "solution": false,
     "task": false
    }
   },
   "source": [
    "# Problem 1\n",
    "\n",
    "Your dear uncle is not getting enough sleep lately. He has asked you for some help with his insomnia. You decided to design an LED display that will display a message that would let him count some sheep. Design a function that takes one parameter: `n`. The function should **return** a string that counts sheep up to `n`. For example, if `n` is 4, then the function should return `\"1 sheep...2 sheep...3 sheep...4 sheep...\"`.\n",
    "\n",
    "Note: You need to use a for/while loop for this problem.\n",
    "\n",
    "### Examples:\n",
    "```python\n",
    "count_sheep(4) == \"1 sheep...2 sheep...3 sheep...4 sheep...\"\n",
    "count_sheep(6) == \"1 sheep...2 sheep...3 sheep...4 sheep...5 sheep...6 sheep...\"\n",
    "```\n",
    "\n",
    "### Assumptions:\n",
    "- `n` is a positive integer\n"
   ]
  },
  {
   "cell_type": "code",
   "execution_count": 1,
   "id": "4b09c5fa-0909-4306-9578-43a9e8904e16",
   "metadata": {
    "deletable": false,
    "nbgrader": {
     "cell_type": "code",
     "checksum": "1092561aaf79230fe452ab131a4b8696",
     "grade": false,
     "grade_id": "cell-c267f0b6c88922a6",
     "locked": false,
     "schema_version": 3,
     "solution": true,
     "task": false
    }
   },
   "outputs": [],
   "source": [
    "def count_sheep(n):\n",
    "    out = ''\n",
    "    for i in range(1, n + 1):\n",
    "        result = str(i) + \" sheep...\"\n",
    "        out += result\n",
    "    return out"
   ]
  },
  {
   "cell_type": "code",
   "execution_count": 2,
   "id": "fb29c202-3fd2-4929-b187-242420bb5e8b",
   "metadata": {
    "deletable": false,
    "editable": false,
    "nbgrader": {
     "cell_type": "code",
     "checksum": "8f787bfa402beaae8178de8a4680ec25",
     "grade": true,
     "grade_id": "cell-f549d262406b272d",
     "locked": true,
     "points": 12,
     "schema_version": 3,
     "solution": false,
     "task": false
    }
   },
   "outputs": [
    {
     "name": "stdout",
     "output_type": "stream",
     "text": [
      "Test Case with parameters (4,)\n",
      "Expected output: 1 sheep...2 sheep...3 sheep...4 sheep...\n",
      "Your output: 1 sheep...2 sheep...3 sheep...4 sheep...\n",
      "Success!\n",
      "\n",
      "Test Case with parameters (6,)\n",
      "Expected output: 1 sheep...2 sheep...3 sheep...4 sheep...5 sheep...6 sheep...\n",
      "Your output: 1 sheep...2 sheep...3 sheep...4 sheep...5 sheep...6 sheep...\n",
      "Success!\n",
      "\n"
     ]
    }
   ],
   "source": [
    "from utils.utils import print_and_assert\n",
    "\n",
    "print_and_assert( count_sheep, \"1 sheep...2 sheep...3 sheep...4 sheep...\", 4 )\n",
    "print_and_assert( count_sheep, \"1 sheep...2 sheep...3 sheep...4 sheep...5 sheep...6 sheep...\", 6 )\n"
   ]
  },
  {
   "cell_type": "code",
   "execution_count": null,
   "id": "eb9b57c7-4d88-4f08-9d61-8a4e010718ee",
   "metadata": {},
   "outputs": [],
   "source": []
  }
 ],
 "metadata": {
  "kernelspec": {
   "display_name": "Python 3 (ipykernel)",
   "language": "python",
   "name": "python3"
  },
  "language_info": {
   "codemirror_mode": {
    "name": "ipython",
    "version": 3
   },
   "file_extension": ".py",
   "mimetype": "text/x-python",
   "name": "python",
   "nbconvert_exporter": "python",
   "pygments_lexer": "ipython3",
   "version": "3.8.17"
  }
 },
 "nbformat": 4,
 "nbformat_minor": 5
}
