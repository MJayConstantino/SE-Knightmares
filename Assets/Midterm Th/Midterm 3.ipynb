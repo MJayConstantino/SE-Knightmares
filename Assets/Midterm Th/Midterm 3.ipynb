{
 "cells": [
  {
   "cell_type": "markdown",
   "id": "92738d3e-e6d0-4d27-93be-c40ab6c6e9f9",
   "metadata": {
    "deletable": false,
    "editable": false,
    "nbgrader": {
     "cell_type": "markdown",
     "checksum": "c68a4b34805ccc8f7b34a20f97de0cde",
     "grade": false,
     "grade_id": "cell-accd6c797aedf4b6",
     "locked": true,
     "schema_version": 3,
     "solution": false,
     "task": false
    }
   },
   "source": [
    "# Problem 3\n",
    "\n",
    "Gwyn hates words with vowels. Help Gwyn design a function that takes one parameter: `message`. The function should remove all the vowels from `message` then return the modified vowel-less `message`.\n",
    "\n",
    "Note: You need to use a for/while loop for this problem.\n",
    "\n",
    "### Examples:\n",
    "```python\n",
    "remove_vowels(\"the quick brown fox jumps over the lazy dog\") == \"th qck brwn fx jmps vr th lzy dg\"\n",
    "remove_vowels(\"one night and one more time, thanks for the memories\") == \"n nght nd n mr tm, thnks fr th mmrs\"\n",
    "```\n",
    "\n",
    "### Assumptions:\n",
    "- `y` isn't a vowel for the purposes of this problem.\n",
    "- All letters will be in lowercase.\n",
    "- Spaces and punctuation marks should remain intact.\n"
   ]
  },
  {
   "cell_type": "code",
   "execution_count": 1,
   "id": "4b09c5fa-0909-4306-9578-43a9e8904e16",
   "metadata": {
    "deletable": false,
    "nbgrader": {
     "cell_type": "code",
     "checksum": "358a70f426d3bd22b7b83fba0ec4a11e",
     "grade": false,
     "grade_id": "cell-ee24ab0c5a330f58",
     "locked": false,
     "schema_version": 3,
     "solution": true,
     "task": false
    }
   },
   "outputs": [],
   "source": [
    "def remove_vowels(message):\n",
    "    vowels = 'aeiou'\n",
    "    out = ''\n",
    "    for i in message:\n",
    "        if i in vowels:\n",
    "            out += ''\n",
    "        else:\n",
    "            out += i\n",
    "    return out"
   ]
  },
  {
   "cell_type": "code",
   "execution_count": 2,
   "id": "fb29c202-3fd2-4929-b187-242420bb5e8b",
   "metadata": {
    "deletable": false,
    "editable": false,
    "nbgrader": {
     "cell_type": "code",
     "checksum": "bb987766693e9f66297a1d077aea3e68",
     "grade": true,
     "grade_id": "cell-71a9b48bfa6316df",
     "locked": true,
     "points": 0,
     "schema_version": 3,
     "solution": false,
     "task": false
    }
   },
   "outputs": [
    {
     "name": "stdout",
     "output_type": "stream",
     "text": [
      "Test Case with parameters ('the quick brown fox jumps over the lazy dog',)\n",
      "Expected output: th qck brwn fx jmps vr th lzy dg\n",
      "Your output: th qck brwn fx jmps vr th lzy dg\n",
      "Success!\n",
      "\n",
      "Test Case with parameters ('one night and one more time, thanks for the memories',)\n",
      "Expected output: n nght nd n mr tm, thnks fr th mmrs\n",
      "Your output: n nght nd n mr tm, thnks fr th mmrs\n",
      "Success!\n",
      "\n",
      "Test Case with parameters ('',)\n",
      "Expected output: \n",
      "Your output: \n",
      "Success!\n",
      "\n",
      "Test Case with parameters ('apple',)\n",
      "Expected output: ppl\n",
      "Your output: ppl\n",
      "Success!\n",
      "\n"
     ]
    }
   ],
   "source": [
    "from utils.utils import print_and_assert\n",
    "\n",
    "print_and_assert( remove_vowels, \"th qck brwn fx jmps vr th lzy dg\", \"the quick brown fox jumps over the lazy dog\" )\n",
    "print_and_assert( remove_vowels, \"n nght nd n mr tm, thnks fr th mmrs\", \"one night and one more time, thanks for the memories\" )\n",
    "print_and_assert( remove_vowels, \"\", \"\" )\n",
    "print_and_assert( remove_vowels, \"ppl\", \"apple\" )\n"
   ]
  },
  {
   "cell_type": "code",
   "execution_count": null,
   "id": "389a5239-7622-4d7e-846a-19c52b67fa24",
   "metadata": {},
   "outputs": [],
   "source": []
  }
 ],
 "metadata": {
  "kernelspec": {
   "display_name": "Python 3 (ipykernel)",
   "language": "python",
   "name": "python3"
  },
  "language_info": {
   "codemirror_mode": {
    "name": "ipython",
    "version": 3
   },
   "file_extension": ".py",
   "mimetype": "text/x-python",
   "name": "python",
   "nbconvert_exporter": "python",
   "pygments_lexer": "ipython3",
   "version": "3.8.17"
  }
 },
 "nbformat": 4,
 "nbformat_minor": 5
}
