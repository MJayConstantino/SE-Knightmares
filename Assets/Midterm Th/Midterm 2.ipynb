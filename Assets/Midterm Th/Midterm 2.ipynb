{
 "cells": [
  {
   "cell_type": "markdown",
   "id": "92738d3e-e6d0-4d27-93be-c40ab6c6e9f9",
   "metadata": {
    "deletable": false,
    "editable": false,
    "nbgrader": {
     "cell_type": "markdown",
     "checksum": "5791600076873178345a7fd3497ab692",
     "grade": false,
     "grade_id": "cell-ca9e17f325caefa1",
     "locked": true,
     "schema_version": 3,
     "solution": false,
     "task": false
    }
   },
   "source": [
    "# Problem 2\n",
    "\n",
    "Design a function that takes four parameters: `x1`, `y1`, `x2`, `y2`. These parameters represent two points: `(x1, y1)` and `(x2, y2)`. The function should return a string whose value depends on whether the line the two points form is `increasing`, `decreasing`, or `horizontal`.\n",
    "\n",
    "Remember that:\n",
    "- An `increasing` line has a positive slope. It looks like this:\n",
    "\n",
    "<img src=\"increasing line.png\" width=\"250\"/>\n",
    "\n",
    "- A `decreasing` line has a negative slope. It looks like this:\n",
    "\n",
    "<img src=\"decreasing line.png\" width=\"250\"/>\n",
    "\n",
    "- A `horizontal` line has a slope that is 0.\n",
    "\n",
    "- The formula for the slope `m` is as follows:\n",
    "\n",
    "<img src=\"slope.png\" width=\"200\" />\n",
    "\n",
    "\n",
    "### Examples:\n",
    "```python\n",
    "line_direction(-4, -2, 3, 3) == \"increasing\"\n",
    "line_direction(-1, 5, -4, 0) == \"increasing\"\n",
    "line_direction(-4, 3, -2, 0) == \"decreasing\"\n",
    "line_direction(2, 8, 6, 1) == \"decreasing\"\n",
    "line_direction(2, 2, -7, 2) == \"horizontal\"\n",
    "```\n",
    "\n",
    "### Assumptions:\n",
    "- The line will never be a vertical line (because it's slope would be undefined).\n",
    "- The two points will never coincide.\n"
   ]
  },
  {
   "cell_type": "code",
   "execution_count": 1,
   "id": "4b09c5fa-0909-4306-9578-43a9e8904e16",
   "metadata": {
    "deletable": false,
    "nbgrader": {
     "cell_type": "code",
     "checksum": "070babe2c1752f410fbcf01004de061d",
     "grade": false,
     "grade_id": "cell-9aa5037c377b6819",
     "locked": false,
     "schema_version": 3,
     "solution": true,
     "task": false
    }
   },
   "outputs": [],
   "source": [
    "def line_direction(x1, y1, x2, y2):\n",
    "    p1 = y2 - y1\n",
    "    p2 = x2 - x1\n",
    "    m = p1 / p2\n",
    "    if m > 0:\n",
    "        return \"increasing\"\n",
    "    elif m == 0:\n",
    "        return \"horizontal\"\n",
    "    return \"decreasing\"\n"
   ]
  },
  {
   "cell_type": "code",
   "execution_count": 2,
   "id": "fb29c202-3fd2-4929-b187-242420bb5e8b",
   "metadata": {
    "deletable": false,
    "editable": false,
    "nbgrader": {
     "cell_type": "code",
     "checksum": "01a5ffefb56c98417140aa4fe9cc2705",
     "grade": true,
     "grade_id": "cell-f554b99971457b2e",
     "locked": true,
     "points": 0,
     "schema_version": 3,
     "solution": false,
     "task": false
    }
   },
   "outputs": [
    {
     "name": "stdout",
     "output_type": "stream",
     "text": [
      "Test Case with parameters (-4, -2, 3, 3)\n",
      "Expected output: increasing\n",
      "Your output: increasing\n",
      "Success!\n",
      "\n",
      "Test Case with parameters (-1, 5, -4, 0)\n",
      "Expected output: increasing\n",
      "Your output: increasing\n",
      "Success!\n",
      "\n",
      "Test Case with parameters (-4, 3, -2, 0)\n",
      "Expected output: decreasing\n",
      "Your output: decreasing\n",
      "Success!\n",
      "\n",
      "Test Case with parameters (2, 8, 6, 1)\n",
      "Expected output: decreasing\n",
      "Your output: decreasing\n",
      "Success!\n",
      "\n",
      "Test Case with parameters (2, 2, -7, 2)\n",
      "Expected output: horizontal\n",
      "Your output: horizontal\n",
      "Success!\n",
      "\n"
     ]
    }
   ],
   "source": [
    "from utils.utils import print_and_assert\n",
    "\n",
    "print_and_assert( line_direction, \"increasing\", -4, -2, 3, 3 )\n",
    "print_and_assert( line_direction, \"increasing\", -1, 5, -4, 0 )\n",
    "print_and_assert( line_direction, \"decreasing\", -4, 3, -2, 0 )\n",
    "print_and_assert( line_direction, \"decreasing\", 2, 8, 6, 1 )\n",
    "print_and_assert( line_direction, \"horizontal\", 2, 2, -7, 2 )\n"
   ]
  },
  {
   "cell_type": "code",
   "execution_count": null,
   "id": "eb9b57c7-4d88-4f08-9d61-8a4e010718ee",
   "metadata": {},
   "outputs": [],
   "source": []
  }
 ],
 "metadata": {
  "kernelspec": {
   "display_name": "Python 3 (ipykernel)",
   "language": "python",
   "name": "python3"
  },
  "language_info": {
   "codemirror_mode": {
    "name": "ipython",
    "version": 3
   },
   "file_extension": ".py",
   "mimetype": "text/x-python",
   "name": "python",
   "nbconvert_exporter": "python",
   "pygments_lexer": "ipython3",
   "version": "3.8.17"
  }
 },
 "nbformat": 4,
 "nbformat_minor": 5
}
