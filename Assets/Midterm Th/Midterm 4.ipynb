{
 "cells": [
  {
   "cell_type": "markdown",
   "id": "92738d3e-e6d0-4d27-93be-c40ab6c6e9f9",
   "metadata": {
    "deletable": false,
    "editable": false,
    "nbgrader": {
     "cell_type": "markdown",
     "checksum": "7317279be201d8361d793855e459d4d1",
     "grade": false,
     "grade_id": "cell-f4f82759969f766d",
     "locked": true,
     "schema_version": 3,
     "solution": false,
     "task": false
    }
   },
   "source": [
    "# Problem 4\n",
    "\n",
    "You are planning your annual field trip for your family this weekend. It will be a road trip visiting different places across Luzon. One important thing you need to consider is whether you have enough fuel for your trip. Design a function that takes two parameters: `itinerary` and `liters_fuel_left`. The function should calculate and return whether it's possible to complete the trip given `liters_fuel_left`.\n",
    "\n",
    "- Your car uses 3L per 10km.\n",
    "- The possible return values are:\n",
    "    - `\"You do not have enough fuel for your trip. You need __ more liters.\"` where __ is the number of liters you still need.\n",
    "    - `\"You have enough fuel for your trip.\"`\n",
    "- `itinerary` is a list of positive integers that represent the distance (in km) you need to travel between places. The distances will be multiples of 10.\n",
    "- `liters_fuel_left` is the amount of fuel left.\n",
    "\n",
    "Note: You are required to use a for/while loop for this problem.\n",
    "\n",
    "For example:\n",
    "\n",
    "Let's say you are going to Town A which takes 70km, then travel to Town B which takes 100km, then to Town C which takes 30km, then back home which takes 20km. You would need 66L of fuel to complete the whole trip.\n",
    "\n",
    "### Examples:\n",
    "```python\n",
    "check_fuel([70, 100, 30, 20], 70) == \"You have enough fuel for your trip.\"\n",
    "check_fuel([70, 100, 30, 20], 60) == \"You do not have enough fuel for your trip. You need 6.0 more liters.\"\n",
    "check_fuel([70, 100, 30, 20], 66) == \"You have enough fuel for your trip.\"\n",
    "\n",
    "check_fuel([50, 60], 35) == \"You have enough fuel for your trip.\"\n",
    "check_fuel([50, 20, 60], 40) == \"You have enough fuel for your trip.\"\n",
    "\n",
    "check_fuel([50, 60], 10) == \"You do not have enough fuel for your trip. You need 23.0 more liters.\"\n",
    "check_fuel([50, 20, 60], 38) == \"You do not have enough fuel for your trip. You need 1.0 more liters.\"\n",
    "```\n",
    "\n",
    "### Assumptions:\n",
    "- All the distances will be multiples of 10.\n",
    "- You won't be stopping on ANY gas stations during the trip.\n",
    "- `liters_fuel_left` is a positive integer.\n"
   ]
  },
  {
   "cell_type": "code",
   "execution_count": 1,
   "id": "4b09c5fa-0909-4306-9578-43a9e8904e16",
   "metadata": {
    "deletable": false,
    "nbgrader": {
     "cell_type": "code",
     "checksum": "b8ab2196612b9822260b363b2e018c2a",
     "grade": false,
     "grade_id": "cell-5083630e5a7cbe80",
     "locked": false,
     "schema_version": 3,
     "solution": true,
     "task": false
    }
   },
   "outputs": [],
   "source": [
    "def check_fuel(itinerary, liters_fuel_left):\n",
    "    total_km = 0\n",
    "    for i in itinerary:\n",
    "        total_km += i\n",
    "        fuel_needed = (total_km / 10) * 3\n",
    "    if fuel_needed > liters_fuel_left:\n",
    "        fuel_needed = fuel_needed - liters_fuel_left\n",
    "        return \"You do not have enough fuel for your trip. You need \" + str(fuel_needed) + \" more liters.\"\n",
    "    else:\n",
    "        return \"You have enough fuel for your trip.\""
   ]
  },
  {
   "cell_type": "code",
   "execution_count": 2,
   "id": "fb29c202-3fd2-4929-b187-242420bb5e8b",
   "metadata": {
    "deletable": false,
    "editable": false,
    "nbgrader": {
     "cell_type": "code",
     "checksum": "408612a0209cbb54e53fc4b7e643234f",
     "grade": true,
     "grade_id": "cell-383ae4d2b188bdcb",
     "locked": true,
     "points": 10,
     "schema_version": 3,
     "solution": false,
     "task": false
    }
   },
   "outputs": [
    {
     "name": "stdout",
     "output_type": "stream",
     "text": [
      "Test Case with parameters ([70, 100, 30, 20], 70)\n",
      "Expected output: You have enough fuel for your trip.\n",
      "Your output: You have enough fuel for your trip.\n",
      "Success!\n",
      "\n",
      "Test Case with parameters ([70, 100, 30, 20], 60)\n",
      "Expected output: You do not have enough fuel for your trip. You need 6.0 more liters.\n",
      "Your output: You do not have enough fuel for your trip. You need 6.0 more liters.\n",
      "Success!\n",
      "\n",
      "Test Case with parameters ([70, 100, 30, 20], 66)\n",
      "Expected output: You have enough fuel for your trip.\n",
      "Your output: You have enough fuel for your trip.\n",
      "Success!\n",
      "\n",
      "Test Case with parameters ([50, 60], 35)\n",
      "Expected output: You have enough fuel for your trip.\n",
      "Your output: You have enough fuel for your trip.\n",
      "Success!\n",
      "\n",
      "Test Case with parameters ([50, 20, 60], 40)\n",
      "Expected output: You have enough fuel for your trip.\n",
      "Your output: You have enough fuel for your trip.\n",
      "Success!\n",
      "\n",
      "Test Case with parameters ([50, 60], 10)\n",
      "Expected output: You do not have enough fuel for your trip. You need 23.0 more liters.\n",
      "Your output: You do not have enough fuel for your trip. You need 23.0 more liters.\n",
      "Success!\n",
      "\n",
      "Test Case with parameters ([50, 20, 60], 38)\n",
      "Expected output: You do not have enough fuel for your trip. You need 1.0 more liters.\n",
      "Your output: You do not have enough fuel for your trip. You need 1.0 more liters.\n",
      "Success!\n",
      "\n"
     ]
    }
   ],
   "source": [
    "from utils.utils import print_and_assert\n",
    "\n",
    "print_and_assert( check_fuel, \"You have enough fuel for your trip.\", [70, 100, 30, 20], 70 )\n",
    "print_and_assert( check_fuel, \"You do not have enough fuel for your trip. You need 6.0 more liters.\", [70, 100, 30, 20], 60 )\n",
    "print_and_assert( check_fuel, \"You have enough fuel for your trip.\", [70, 100, 30, 20], 66 )\n",
    "\n",
    "print_and_assert( check_fuel, \"You have enough fuel for your trip.\", [50, 60], 35 )\n",
    "print_and_assert( check_fuel, \"You have enough fuel for your trip.\", [50, 20, 60], 40 )\n",
    "\n",
    "print_and_assert( check_fuel, \"You do not have enough fuel for your trip. You need 23.0 more liters.\", [50, 60], 10 )\n",
    "print_and_assert( check_fuel, \"You do not have enough fuel for your trip. You need 1.0 more liters.\", [50, 20, 60], 38 )\n"
   ]
  },
  {
   "cell_type": "code",
   "execution_count": null,
   "id": "389a5239-7622-4d7e-846a-19c52b67fa24",
   "metadata": {},
   "outputs": [],
   "source": []
  }
 ],
 "metadata": {
  "kernelspec": {
   "display_name": "Python 3 (ipykernel)",
   "language": "python",
   "name": "python3"
  },
  "language_info": {
   "codemirror_mode": {
    "name": "ipython",
    "version": 3
   },
   "file_extension": ".py",
   "mimetype": "text/x-python",
   "name": "python",
   "nbconvert_exporter": "python",
   "pygments_lexer": "ipython3",
   "version": "3.8.17"
  }
 },
 "nbformat": 4,
 "nbformat_minor": 5
}
